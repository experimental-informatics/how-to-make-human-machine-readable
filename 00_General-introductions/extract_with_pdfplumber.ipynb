{
 "cells": [
  {
   "cell_type": "markdown",
   "id": "c1681711-0a02-4f02-b943-c620c782b524",
   "metadata": {},
   "source": [
    "# Extracting text with pdfplumber"
   ]
  },
  {
   "cell_type": "code",
   "execution_count": 2,
   "id": "93d0bbb8-4383-4e15-8960-3284d5d17571",
   "metadata": {},
   "outputs": [],
   "source": [
    "import pdfplumber\n",
    "import re\n",
    "\n",
    "# URL to file: https://libcom.org/files/A%20Thousand%20Plateaus.pdf\n",
    "path = 'AThousandPlateaus.pdf'"
   ]
  },
  {
   "cell_type": "markdown",
   "id": "fdf1b34e-7db4-4f7f-8399-9a12a32b8d6a",
   "metadata": {},
   "source": [
    "## Extract single pages"
   ]
  },
  {
   "cell_type": "code",
   "execution_count": 3,
   "id": "ff974b8c-3269-4322-9972-209d01609fc0",
   "metadata": {},
   "outputs": [],
   "source": [
    "def extract_text(path, page_no):\n",
    "    '''Returns the content of one page as a string.'''\n",
    "    with pdfplumber.open(path) as pdf:\n",
    "        page = pdf.pages[page_no-1]\n",
    "        content = page.extract_text()\n",
    "    return content"
   ]
  },
  {
   "cell_type": "markdown",
   "id": "6ac85b8d-df14-498e-b488-20b60d0a69be",
   "metadata": {},
   "source": [
    "## Clean page"
   ]
  },
  {
   "cell_type": "code",
   "execution_count": 4,
   "id": "ae463b1d-b05d-4ef6-bc58-d5f61daced7e",
   "metadata": {},
   "outputs": [],
   "source": [
    "def clean_page(txt):\n",
    "    '''Removes unwanted characters from a string.'''\n",
    "    \n",
    "    # Remove hyphen and merge word\n",
    "    txt = txt.replace('-\\n', '')\n",
    "    \n",
    "    # Convert string to list without removing \\n\n",
    "    txt = [line+'\\n' for line in txt.split('\\n')]\n",
    "    \n",
    "    # Remove lines which seem to be headlines etc.\n",
    "    # (Removes numbers at the bottom as well.)\n",
    "    txt_ = []\n",
    "    \n",
    "    for i in range(1, len(txt)):\n",
    "        len_line = len(txt[i])\n",
    "        len_prev_line = len(txt[i-1])\n",
    "        \n",
    "        if len_line < 55 and len_prev_line < 55:\n",
    "            pass\n",
    "        \n",
    "        else:\n",
    "            txt_.append(txt[i])\n",
    "    txt = txt_\n",
    "    \n",
    "    \n",
    "    # Convert list to string\n",
    "    txt = ' '.join(txt)\n",
    "    \n",
    "    # Remove footnotes\n",
    "    # Look like: 'end of sentence.2 Next sentence'\n",
    "    txt = re.sub('\\.+?[0-9\\-]', '.', txt)\n",
    "\n",
    "    \n",
    "    # Remove numbers at the bottom\n",
    "    # Look like: '75 \\n'\n",
    "    txt = re.sub('[0-9\\-]+ \\\\n', '', txt)\n",
    "    \n",
    "    # Remove newline characters except for (guessed) the end of a paragraph\n",
    "    # First remove all\n",
    "    txt = txt.split('\\n')\n",
    "    \n",
    "    # Then add if a line is shorter than 60 characters\n",
    "    txt_ = []\n",
    "    for line in txt:\n",
    "        if len(line) < 60:\n",
    "            txt_.append(line + '\\n')\n",
    "        else:\n",
    "            txt_.append(line)\n",
    "    txt = ''.join(txt_)\n",
    "\n",
    "    \n",
    "    # Remove multiple spaces\n",
    "    txt = re.sub(' +', ' ', txt)\n",
    "    \n",
    "    return txt"
   ]
  },
  {
   "cell_type": "markdown",
   "id": "d26f4c50-a657-4266-9653-97a2929d8b29",
   "metadata": {},
   "source": [
    "### 24"
   ]
  },
  {
   "cell_type": "code",
   "execution_count": 5,
   "id": "39706d6b-bf76-40b7-aec6-8e3fac214b15",
   "metadata": {},
   "outputs": [
    {
     "name": "stdout",
     "output_type": "stream",
     "text": [
      " \n",
      " \n",
      "SYLVANO BUSSOTI\n",
      "The two of us wrote Anti-Oedipus together. Since each of us was several, \n",
      "there was already quite a crowd. Here we have made use of everything that \n",
      "came within range, what was closest as well as farthest away. We have \n",
      "assigned clever pseudonyms to prevent recognition. Why have we kept our \n",
      "own names? Out of habit, purely out of habit. To make ourselves unrecog-\n",
      "nizable in turn. To render imperceptible, not ourselves, but what makes us \n",
      "act, feel, and think. Also because it's nice to talk like everybody else, to say \n",
      "the sun rises, when everybody knows it's only a manner of speaking. To \n",
      "reach, not the point where one no longer says I, but the point where it is no \n",
      "longer of any importance whether one says I. We are no longer ourselves. \n",
      "Each will know his own. We have been aided, inspired, multiplied. \n",
      "A book has neither object nor subject; it is made of variously formed \n",
      "matters, and very different dates and speeds. To attribute the book to a \n",
      "subject is to overlook this working of matters, and the exteriority of their \n",
      "relations. It is to fabricate a beneficent God to explain geological move-\n",
      "ments. In a book, as in all things, there are lines of articulation or \n",
      "segmentarity, strata and territories; but also lines of flight, movements of \n",
      "deterritorialization and destratification. Comparative rates of flow on \n",
      "3 \n"
     ]
    }
   ],
   "source": [
    "content = extract_text(path, 24)\n",
    "print(content)"
   ]
  },
  {
   "cell_type": "markdown",
   "id": "34c7f004-fa94-4ef3-80a9-1d0247918a5b",
   "metadata": {},
   "source": [
    "<br>\n",
    "First 3 lines could be removed.<br>\n",
    "Last line contains online a number -> could be removed."
   ]
  },
  {
   "cell_type": "code",
   "execution_count": 6,
   "id": "4bfb0d24-8795-4acd-88c6-e2c53ff421ae",
   "metadata": {},
   "outputs": [
    {
     "name": "stdout",
     "output_type": "stream",
     "text": [
      "The two of us wrote Anti-Oedipus together. Since each of us was several, there was already quite a crowd. Here we have made use of everything that came within range, what was closest as well as farthest away. We have assigned clever pseudonyms to prevent recognition. Why have we kept our own names? Out of habit, purely out of habit. To make ourselves unrecognizable in turn. To render imperceptible, not ourselves, but what makes us act, feel, and think. Also because it's nice to talk like everybody else, to say the sun rises, when everybody knows it's only a manner of speaking. To reach, not the point where one no longer says I, but the point where it is no longer of any importance whether one says I. We are no longer ourselves. Each will know his own. We have been aided, inspired, multiplied. A book has neither object nor subject; it is made of variously formed matters, and very different dates and speeds. To attribute the book to a subject is to overlook this working of matters, and the exteriority of their relations. It is to fabricate a beneficent God to explain geological movements. In a book, as in all things, there are lines of articulation or segmentarity, strata and territories; but also lines of flight, movements of deterritorialization and destratification. Comparative rates of flow on \n",
      "\n"
     ]
    }
   ],
   "source": [
    "print(clean_page(content))"
   ]
  },
  {
   "cell_type": "markdown",
   "id": "be27d0e1-4c16-4d63-a674-e23e26cd1fd9",
   "metadata": {},
   "source": [
    "### 26"
   ]
  },
  {
   "cell_type": "code",
   "execution_count": 7,
   "id": "eccbb152-b786-4517-8e06-9ebf1c97c3c7",
   "metadata": {},
   "outputs": [
    {
     "name": "stdout",
     "output_type": "stream",
     "text": [
      "I\n",
      "NTRODUCTION: RHIZOME □ 5 \n",
      "signifying. It has to do with surveying, mapping, even realms that are yet to \n",
      "come. \n",
      "A first type of book is the root-book. The tree is already the image of the \n",
      "world, or the root the image of the world-tree. This is the classical book, as \n",
      "noble, signifying, and subjective organic interiority (the strata of the book). \n",
      "The book imitates the world, as art imitates nature: by procedures specific \n",
      "to it that accomplish what nature cannot or can no longer do. The law of the \n",
      "book is the law of reflection, the One that becomes two. How could the law \n",
      "of the book reside in nature, when it is what presides over the very division \n",
      "between world and book, nature and art? One becomes two: whenever we \n",
      "encounter this formula, even stated strategically by Mao or understood in \n",
      "the most \"dialectical\" way possible, what we have before us is the most clas-\n",
      "sical and well reflected, oldest, and weariest kind of thought. Nature \n",
      "doesn't work that way: in nature, roots are taproots with a more multiple, \n",
      "lateral, and circular system of ramification, rather than a dichotomous \n",
      "one. Thought lags behind nature. Even the book as a natural reality is a tap-\n",
      "root, with its pivotal spine and surrounding leaves. But the book as a spiri-\n",
      "tual reality, the Tree or Root as an image, endlessly develops the law of the \n",
      "One that becomes two, then of the two that become four. . . Binary logic is \n",
      "the spiritual reality of the root-tree. Even a discipline as \"advanced\" as lin-\n",
      "guistics retains the root-tree as its fundamental image, and thus remains \n",
      "wedded to classical reflection (for example, Chomsky and his grammatical \n",
      "trees, which begin at a point S and proceed by dichotomy). This is as much \n",
      "as to say that this system of thought has never reached an understanding of \n",
      "multiplicity: in order to arrive at two following a spiritual method it must \n",
      "assume a strong principal unity. On the side of the object, it is no doubt pos-\n",
      "sible, following the natural method, to go directly from One to three, four, \n",
      "or five, but only if there is a strong principal unity available, that of the piv-\n",
      "otal taproot supporting the secondary roots. That doesn't get us very far. \n",
      "The binary logic of dichotomy has simply been replaced by biunivocal rela-\n",
      "tionships between successive circles. The pivotal taproot provides no bet-\n",
      "ter understanding of multiplicity than the dichotomous root. One operates \n",
      "in the object, the other in the subject. Binary logic and biunivocal relation-\n",
      "ships still dominate psychoanalysis (the tree of delusion in the Freudian \n",
      "interpretation  of  Schreber's  case),  linguistics,  structuralism,  and  even \n",
      "information science. \n",
      "The radicle-system, or fascicular root, is the second figure of the book, \n",
      "to which our modernity pays willing allegiance. This time, the principal \n",
      "root has aborted, or its tip has been destroyed; an immediate, indefinite \n",
      "multiplicity of secondary roots grafts onto it and undergoes a flourishing \n",
      "development. This time, natural reality is what aborts the principal root, \n",
      "but the root's unity subsists, as past or yet to come, as possible. We must ask \n"
     ]
    }
   ],
   "source": [
    "content = extract_text(path, 26)\n",
    "print(content)"
   ]
  },
  {
   "cell_type": "markdown",
   "id": "bebee858-b657-472a-8659-79e9cedfa6f7",
   "metadata": {},
   "source": [
    "<br>\n",
    "First 2 lines should be removed."
   ]
  },
  {
   "cell_type": "code",
   "execution_count": 8,
   "id": "1b5328b1-e5e9-4246-9597-6a7931c93d2c",
   "metadata": {},
   "outputs": [
    {
     "name": "stdout",
     "output_type": "stream",
     "text": [
      "signifying. It has to do with surveying, mapping, even realms that are yet to come. \n",
      " A first type of book is the root-book. The tree is already the image of the world, or the root the image of the world-tree. This is the classical book, as noble, signifying, and subjective organic interiority (the strata of the book). The book imitates the world, as art imitates nature: by procedures specific to it that accomplish what nature cannot or can no longer do. The law of the book is the law of reflection, the One that becomes two. How could the law of the book reside in nature, when it is what presides over the very division between world and book, nature and art? One becomes two: whenever we encounter this formula, even stated strategically by Mao or understood in the most \"dialectical\" way possible, what we have before us is the most classical and well reflected, oldest, and weariest kind of thought. Nature doesn't work that way: in nature, roots are taproots with a more multiple, lateral, and circular system of ramification, rather than a dichotomous one. Thought lags behind nature. Even the book as a natural reality is a taproot, with its pivotal spine and surrounding leaves. But the book as a spiritual reality, the Tree or Root as an image, endlessly develops the law of the One that becomes two, then of the two that become four. . . Binary logic is the spiritual reality of the root-tree. Even a discipline as \"advanced\" as linguistics retains the root-tree as its fundamental image, and thus remains wedded to classical reflection (for example, Chomsky and his grammatical trees, which begin at a point S and proceed by dichotomy). This is as much as to say that this system of thought has never reached an understanding of multiplicity: in order to arrive at two following a spiritual method it must assume a strong principal unity. On the side of the object, it is no doubt possible, following the natural method, to go directly from One to three, four, or five, but only if there is a strong principal unity available, that of the pivotal taproot supporting the secondary roots. That doesn't get us very far. The binary logic of dichotomy has simply been replaced by biunivocal relationships between successive circles. The pivotal taproot provides no better understanding of multiplicity than the dichotomous root. One operates in the object, the other in the subject. Binary logic and biunivocal relationships still dominate psychoanalysis (the tree of delusion in the Freudian interpretation of Schreber's case), linguistics, structuralism, and even information science. \n",
      " The radicle-system, or fascicular root, is the second figure of the book, to which our modernity pays willing allegiance. This time, the principal root has aborted, or its tip has been destroyed; an immediate, indefinite multiplicity of secondary roots grafts onto it and undergoes a flourishing development. This time, natural reality is what aborts the principal root, but the root's unity subsists, as past or yet to come, as possible. We must ask \n",
      "\n"
     ]
    }
   ],
   "source": [
    "print(clean_page(content))"
   ]
  },
  {
   "cell_type": "markdown",
   "id": "b33bef0d-9dc0-45ba-844c-96d757135c2a",
   "metadata": {},
   "source": [
    "### 28"
   ]
  },
  {
   "cell_type": "code",
   "execution_count": 9,
   "id": "2756b4ed-f479-4902-ab89-e46f03603bc3",
   "metadata": {},
   "outputs": [
    {
     "name": "stdout",
     "output_type": "stream",
     "text": [
      "0 \n",
      "INTRODUCTION: RHIZOME □ 7 \n",
      "tions of shelter, supply, movement, evasion, and breakout. The rhizome \n",
      "itself assumes very diverse forms, from ramified surface extension in all \n",
      "directions to concretion into bulbs and tubers. When rats swarm over each \n",
      "other. The rhizome includes the best and the worst: potato and couchgrass, \n",
      "or the weed. Animal and plant, couchgrass is crabgrass. We get the distinct \n",
      "feeling that we will convince no one unless we enumerate certain approxi-\n",
      "mate characteristics of the rhizome. \n",
      "1 and 2. Principles of connection and heterogeneity: any point of a rhi-\n",
      "zome can be connected to anything other, and must be. This is very differ-\n",
      "ent from the tree or root, which plots a point, fixes an order. The linguistic \n",
      "tree on the Chomsky model still begins at a point S and proceeds by dichot-\n",
      "omy. On the contrary, not every trait in a rhizome is necessarily linked to a \n",
      "linguistic feature: semiotic chains of every nature are connected to very \n",
      "diverse modes of coding (biological, political, economic, etc.) that bring \n",
      "into play not only different regimes of signs but also states of things of dif-\n",
      "fering status. Collective assemblages of enunciation function directly \n",
      "within machinic assemblages; it is not impossible to make a radical break \n",
      "between regimes of signs and their objects. Even when linguistics claims to \n",
      "confine itself to what is explicit and to make no presuppositions about lan-\n",
      "guage, it is still in the sphere of a discourse implying particular modes of \n",
      "assemblage and types of social power. Chomsky's grammaticality, the cate-\n",
      "gorical S symbol that dominates every sentence, is more fundamentally a \n",
      "marker of power than a syntactic marker: you will construct grammatically \n",
      "correct sentences, you will divide each statement into a noun phrase and a \n",
      "verb phrase (first dichotomy. . .). Our criticism of these linguistic models \n",
      "is not that they are too abstract but, on the contrary, that they are not \n",
      "abstract enough, that they do not reach the abstract machine that connects \n",
      "a language to the semantic and pragmatic contents of statements, to collec-\n",
      "tive assemblages of enunciation, to a whole micropolitics of the social \n",
      "field. A rhizome ceaselessly establishes connections between semiotic \n",
      "chains, organizations of power, and circumstances relative to the arts, sci-\n",
      "ences, and social struggles. A semiotic chain is like a tuber agglomerating \n",
      "very  diverse  acts,  not  only  linguistic,  but  also  perceptive,  mimetic, \n",
      "gestural, and cognitive: there is no language in itself, nor are there any lin-\n",
      "guistic universals, only a throng of dialects, patois, slangs, and specialized \n",
      "languages. There is no ideal speaker-listener, any more than there is a \n",
      "homogeneous linguistic community. Language is, in Weinreich's words, \n",
      "\"an essentially heterogeneous reality.\"1 There is no mother tongue, only a \n",
      "power takeover by a dominant language within a political multiplicity. \n",
      "Language stabilizes around a parish, a bishopric, a capital. It forms a bulb. \n",
      "It evolves by subterranean stems and flows, along river valleys or train \n",
      "tracks; it spreads like a patch of oil.2 It is always possible to break a language \n"
     ]
    }
   ],
   "source": [
    "content = extract_text(path, 28)\n",
    "print(content)"
   ]
  },
  {
   "cell_type": "markdown",
   "id": "60f3c51c-a958-4abf-98de-439a1f148888",
   "metadata": {},
   "source": [
    "<br>\n",
    "Footnote (last line): Remove numbers following a dot."
   ]
  },
  {
   "cell_type": "code",
   "execution_count": 10,
   "id": "8fe46c0a-e3b4-40ab-8c23-ec1a8b5d1dcb",
   "metadata": {},
   "outputs": [
    {
     "name": "stdout",
     "output_type": "stream",
     "text": [
      "tions of shelter, supply, movement, evasion, and breakout. The rhizome itself assumes very diverse forms, from ramified surface extension in all directions to concretion into bulbs and tubers. When rats swarm over each other. The rhizome includes the best and the worst: potato and couchgrass, or the weed. Animal and plant, couchgrass is crabgrass. We get the distinct feeling that we will convince no one unless we enumerate certain approximate characteristics of the rhizome. 1 and 2. Principles of connection and heterogeneity: any point of a rhizome can be connected to anything other, and must be. This is very different from the tree or root, which plots a point, fixes an order. The linguistic tree on the Chomsky model still begins at a point S and proceeds by dichotomy. On the contrary, not every trait in a rhizome is necessarily linked to a linguistic feature: semiotic chains of every nature are connected to very diverse modes of coding (biological, political, economic, etc.) that bring into play not only different regimes of signs but also states of things of differing status. Collective assemblages of enunciation function directly within machinic assemblages; it is not impossible to make a radical break between regimes of signs and their objects. Even when linguistics claims to confine itself to what is explicit and to make no presuppositions about language, it is still in the sphere of a discourse implying particular modes of assemblage and types of social power. Chomsky's grammaticality, the categorical S symbol that dominates every sentence, is more fundamentally a marker of power than a syntactic marker: you will construct grammatically correct sentences, you will divide each statement into a noun phrase and a verb phrase (first dichotomy. . .). Our criticism of these linguistic models is not that they are too abstract but, on the contrary, that they are not abstract enough, that they do not reach the abstract machine that connects a language to the semantic and pragmatic contents of statements, to collective assemblages of enunciation, to a whole micropolitics of the social field. A rhizome ceaselessly establishes connections between semiotic chains, organizations of power, and circumstances relative to the arts, sciences, and social struggles. A semiotic chain is like a tuber agglomerating very diverse acts, not only linguistic, but also perceptive, mimetic, gestural, and cognitive: there is no language in itself, nor are there any linguistic universals, only a throng of dialects, patois, slangs, and specialized languages. There is no ideal speaker-listener, any more than there is a homogeneous linguistic community. Language is, in Weinreich's words, \"an essentially heterogeneous reality.\"1 There is no mother tongue, only a power takeover by a dominant language within a political multiplicity. Language stabilizes around a parish, a bishopric, a capital. It forms a bulb. It evolves by subterranean stems and flows, along river valleys or train tracks; it spreads like a patch of oil. It is always possible to break a language \n",
      "\n"
     ]
    }
   ],
   "source": [
    "print(clean_page(content))"
   ]
  },
  {
   "cell_type": "markdown",
   "id": "2895131c-7da1-425a-a1c0-bc7822c6ce65",
   "metadata": {},
   "source": [
    "Inserting a newline character between `rhizome.` and `1 and 2.` does not work here, because the line `mate characteristics of the rhizome` is merged with the previous line through the word division of `approximate`."
   ]
  },
  {
   "cell_type": "markdown",
   "id": "e8a9b485-54f2-45b9-b3ad-946bce27bf56",
   "metadata": {},
   "source": [
    "### 47"
   ]
  },
  {
   "cell_type": "code",
   "execution_count": 11,
   "id": "834c375c-5a36-411a-9686-1d2dca6239bd",
   "metadata": {},
   "outputs": [
    {
     "name": "stdout",
     "output_type": "stream",
     "text": [
      " \n",
      "2. 1914: One or Several Wolves?\n",
      " \n",
      " \n",
      "Field of Tracks, or Wolf Line \n",
      "That day, the Wolf-Man rose from the couch particularly tired. He knew \n",
      "that Freud had a genius for brushing up against the truth and passing it by, \n",
      "then filling the void with associations. He knew that Freud knew nothing \n",
      "about wolves, or anuses for that matter. The only thing Freud understood \n",
      "was what a dog is, and a dog's tail. It wasn't enough. It wouldn't be enough. \n",
      "The Wolf-Man knew that Freud would soon declare him cured, but that it \n",
      "was not at all the case and his treatment would continue for all eternity \n",
      "under Brunswick, Lacan, Leclaire. Finally, he knew that he was in the pro-\n",
      "cess of acquiring a veritable proper name, the Wolf-Man, a name more \n",
      "properly his than his own, since it attained the highest degree of singularity \n",
      "26 \n"
     ]
    }
   ],
   "source": [
    "content = extract_text(path, 47)\n",
    "print(content)"
   ]
  },
  {
   "cell_type": "code",
   "execution_count": 12,
   "id": "90527d86-9cf7-454c-b81d-e0a74b1cc6d4",
   "metadata": {},
   "outputs": [
    {
     "name": "stdout",
     "output_type": "stream",
     "text": [
      "That day, the Wolf-Man rose from the couch particularly tired. He knew that Freud had a genius for brushing up against the truth and passing it by, then filling the void with associations. He knew that Freud knew nothing about wolves, or anuses for that matter. The only thing Freud understood was what a dog is, and a dog's tail. It wasn't enough. It wouldn't be enough. The Wolf-Man knew that Freud would soon declare him cured, but that it was not at all the case and his treatment would continue for all eternity under Brunswick, Lacan, Leclaire. Finally, he knew that he was in the process of acquiring a veritable proper name, the Wolf-Man, a name more properly his than his own, since it attained the highest degree of singularity \n",
      "\n"
     ]
    }
   ],
   "source": [
    "print(clean_page(content))"
   ]
  },
  {
   "cell_type": "markdown",
   "id": "0bc638be-12f0-454a-b251-1e190025e327",
   "metadata": {},
   "source": [
    "### 60"
   ]
  },
  {
   "cell_type": "code",
   "execution_count": 13,
   "id": "68b6cb0a-6a7d-461b-a729-a21980a36834",
   "metadata": {},
   "outputs": [
    {
     "name": "stdout",
     "output_type": "stream",
     "text": [
      "3. 10,000 B.C: The Geology of Morals   \n",
      "(Who Does the Earth Think It Is?)\n",
      " \n",
      " \n",
      "Double Articulation \n",
      "39\n"
     ]
    }
   ],
   "source": [
    "content = extract_text(path, 60)\n",
    "print(content)"
   ]
  },
  {
   "cell_type": "code",
   "execution_count": 14,
   "id": "c88eab78-44ff-41ac-b150-03e2906e7a64",
   "metadata": {},
   "outputs": [
    {
     "data": {
      "text/plain": [
       "101"
      ]
     },
     "execution_count": 14,
     "metadata": {},
     "output_type": "execute_result"
    }
   ],
   "source": [
    "len(content)"
   ]
  },
  {
   "cell_type": "markdown",
   "id": "4210fbe3-4996-4e98-9275-a3e742603299",
   "metadata": {},
   "source": [
    "<br>\n",
    "Option: Remove complete page if it contains less then x characters.<br>"
   ]
  },
  {
   "cell_type": "code",
   "execution_count": 16,
   "id": "982e35cf-2ce4-4af8-95b6-89898efb6d9c",
   "metadata": {},
   "outputs": [
    {
     "name": "stdout",
     "output_type": "stream",
     "text": [
      "\n",
      "\n"
     ]
    }
   ],
   "source": [
    "# Everything will be removed through line length.\n",
    "print(clean_page(content))"
   ]
  },
  {
   "cell_type": "markdown",
   "id": "3a90c7b9-1182-41fb-830c-ebc4fd329b44",
   "metadata": {},
   "source": [
    "### 96"
   ]
  },
  {
   "cell_type": "code",
   "execution_count": 17,
   "id": "379c4eea-e95e-4f42-adef-da0d4db98801",
   "metadata": {},
   "outputs": [
    {
     "name": "stdout",
     "output_type": "stream",
     "text": [
      " \n",
      "4. November 20, 1923—Postulates of \n",
      "Linguistics\n",
      " \n",
      " \n",
      "The Order-word Assemblage \n",
      "I. \"Language Is Informational and Communicationai\" \n",
      "When the schoolmistress instructs her students on a rule of grammar or \n",
      "arithmetic, she is not informing them, any more than she is informing her-\n",
      "self when she questions a student. She does not so much instruct as \n",
      "\"insign,\" give orders or commands. A teacher's commands are not external \n",
      "or additional to what he or she teaches us. They do not flow from primary \n",
      "significations or result from information: an order always and already con-\n",
      "cerns prior orders, which is why ordering is redundancy. The compulsory \n",
      "education machine does not communicate information; it imposes upon \n",
      "the child semiotic coordinates possessing all of the dual foundations of \n",
      "75 \n"
     ]
    }
   ],
   "source": [
    "content = extract_text(path, 96)\n",
    "print(content)"
   ]
  },
  {
   "cell_type": "code",
   "execution_count": 18,
   "id": "bf4b6186-c213-4a22-9eb8-adccac8b654f",
   "metadata": {},
   "outputs": [
    {
     "name": "stdout",
     "output_type": "stream",
     "text": [
      "When the schoolmistress instructs her students on a rule of grammar or arithmetic, she is not informing them, any more than she is informing herself when she questions a student. She does not so much instruct as \"insign,\" give orders or commands. A teacher's commands are not external or additional to what he or she teaches us. They do not flow from primary significations or result from information: an order always and already concerns prior orders, which is why ordering is redundancy. The compulsory education machine does not communicate information; it imposes upon the child semiotic coordinates possessing all of the dual foundations of \n",
      "\n"
     ]
    }
   ],
   "source": [
    "print(clean_page(content))"
   ]
  },
  {
   "cell_type": "markdown",
   "id": "6f18750e-60eb-4f52-b6e4-f53238c1a4f8",
   "metadata": {},
   "source": [
    "## Loop through pages 24 to 536"
   ]
  },
  {
   "cell_type": "code",
   "execution_count": 190,
   "id": "de3a7ad2-721a-44c0-8fac-394094888699",
   "metadata": {},
   "outputs": [],
   "source": [
    "import pyprind"
   ]
  },
  {
   "cell_type": "code",
   "execution_count": 191,
   "id": "c97dd3da-a0bf-4eab-ae86-7e0d1748ff39",
   "metadata": {},
   "outputs": [
    {
     "name": "stderr",
     "output_type": "stream",
     "text": [
      "[100 %] Time elapsed: 00:08:36 | ETA: 00:00:00\n",
      "Total time elapsed: 00:08:36\n"
     ]
    }
   ],
   "source": [
    "txt = '' # empty variable for the extracted text\n",
    "\n",
    "for i in pyprind.prog_percent(range(24, 536)):\n",
    "# for i in range(24, 27):\n",
    "    \n",
    "    # Extract content\n",
    "    content = extract_text(path, i)\n",
    "    # Clean content\n",
    "    content = clean_page(content)\n",
    "    # Add content\n",
    "    txt += content\n",
    "    \n"
   ]
  },
  {
   "cell_type": "code",
   "execution_count": 192,
   "id": "f5ae55ed-52f8-4f35-bff7-515fbffeb66b",
   "metadata": {},
   "outputs": [],
   "source": [
    "# Save file\n",
    "with open('dataset.txt', 'w') as f:\n",
    "    f.write(txt)"
   ]
  },
  {
   "cell_type": "markdown",
   "id": "765d6a29-a2b7-4bb5-b722-941ad23d534b",
   "metadata": {},
   "source": [
    "## Clean page Notes"
   ]
  },
  {
   "cell_type": "markdown",
   "id": "45783dc0-3c81-4898-819f-c558308da08e",
   "metadata": {},
   "source": [
    "#### Remove footnotes"
   ]
  },
  {
   "cell_type": "code",
   "execution_count": 120,
   "id": "769eb2a5-6cec-499a-aeab-ab31ce5b02b8",
   "metadata": {},
   "outputs": [
    {
     "name": "stdout",
     "output_type": "stream",
     "text": [
      "Some 35 63 7 ds like a patch of oil. It is always possible to break a language\n"
     ]
    }
   ],
   "source": [
    "s = 'Some 35 63 7 ds like a patch of oil.2 It is always possible to break a language' \n",
    "res = re.sub('\\.+?[0-9\\-]', '.', s)\n",
    "print(res)"
   ]
  },
  {
   "cell_type": "markdown",
   "id": "29cd9df2-0573-40bc-8bd8-6a895742bd38",
   "metadata": {},
   "source": [
    "#### Remove page numbers"
   ]
  },
  {
   "cell_type": "code",
   "execution_count": 129,
   "id": "963711bf-7cae-4246-b3ff-325b18bcc1b1",
   "metadata": {},
   "outputs": [
    {
     "name": "stdout",
     "output_type": "stream",
     "text": [
      "['education machine does not communicate information; it imposes upon \\n', 'the child semiotic coordinates possessing all of the dual foundations of \\n', '75 \\n', 'some more']\n"
     ]
    }
   ],
   "source": [
    "l = ['education machine does not communicate information; it imposes upon \\n', 'the child semiotic coordinates possessing all of the dual foundations of \\n', '75 \\n', 'some more']\n",
    "print(l)"
   ]
  },
  {
   "cell_type": "code",
   "execution_count": 131,
   "id": "4f3b2ec5-eee2-454b-87e5-dcda772fd645",
   "metadata": {},
   "outputs": [
    {
     "name": "stdout",
     "output_type": "stream",
     "text": [
      "education machine does not communicate information; it imposes upon \n",
      "\n",
      "the child semiotic coordinates possessing all of the dual foundations of \n",
      "\n",
      "REMOVED\n",
      "some more\n"
     ]
    }
   ],
   "source": [
    "for line in l:\n",
    "    print(re.sub('[0-9\\-]+ \\\\n', 'REMOVED', line))"
   ]
  },
  {
   "cell_type": "markdown",
   "id": "ef31e711-af75-45d5-9292-f32cb55d6c17",
   "metadata": {},
   "source": [
    "#### Paragraph"
   ]
  },
  {
   "cell_type": "code",
   "execution_count": 164,
   "id": "941d7e39-4dd3-4f34-abd0-2729e0392646",
   "metadata": {},
   "outputs": [
    {
     "name": "stdout",
     "output_type": "stream",
     "text": [
      "0 \n",
      "INTRODUCTION: RHIZOME □ 7 \n",
      "tions of shelter, supply, movement, evasion, and breakout. The rhizome \n",
      "itself assumes very diverse forms, from ramified surface extension in all \n",
      "directions to concretion into bulbs and tubers. When rats swarm over each \n",
      "other. The rhizome includes the best and the worst: potato and couchgrass, \n",
      "or the weed. Animal and plant, couchgrass is crabgrass. We get the distinct \n",
      "feeling that we will convince no one unless we enumerate certain approxi-\n",
      "mate characteristics of the rhizome. \n",
      "1 and 2. Principles of connection and heterogeneity: any point of a rhi-\n",
      "zome can be connected to anything other, and must be. This is very differ-\n",
      "ent from the tree or root, which plots a point, fixes an order. The linguistic \n",
      "\n",
      "\n",
      "\n",
      "\n",
      "0 \n",
      "INTRODUCTION: RHIZOME □ 7 \n",
      "tions of shelter, supply, movement, evasion, and breakout. The rhizome itself assumes very diverse forms, from ramified surface extension in all directions to concretion into bulbs and tubers. When rats swarm over each other. The rhizome includes the best and the worst: potato and couchgrass, or the weed. Animal and plant, couchgrass is crabgrass. We get the distinct feeling that we will convince no one unless we enumerate certain approxi-mate characteristics of the rhizome. \n",
      "1 and 2. Principles of connection and heterogeneity: any point of a rhi-zome can be connected to anything other, and must be. This is very differ-ent from the tree or root, which plots a point, fixes an order. The linguistic \n",
      "\n"
     ]
    }
   ],
   "source": [
    "txt = '0 \\nINTRODUCTION: RHIZOME □ 7 \\ntions of shelter, supply, movement, evasion, and breakout. The rhizome \\nitself assumes very diverse forms, from ramified surface extension in all \\ndirections to concretion into bulbs and tubers. When rats swarm over each \\nother. The rhizome includes the best and the worst: potato and couchgrass, \\nor the weed. Animal and plant, couchgrass is crabgrass. We get the distinct \\nfeeling that we will convince no one unless we enumerate certain approxi-\\nmate characteristics of the rhizome. \\n1 and 2. Principles of connection and heterogeneity: any point of a rhi-\\nzome can be connected to anything other, and must be. This is very differ-\\nent from the tree or root, which plots a point, fixes an order. The linguistic \\n'\n",
    "print(txt)\n",
    "print('\\n\\n')\n",
    "txt = txt.split('\\n')\n",
    "txt_ = []\n",
    "for line in txt:\n",
    "    if len(line) < 65:\n",
    "        txt_.append(line + '\\n')\n",
    "    else:\n",
    "        txt_.append(line)\n",
    "txt = ''.join(txt_)\n",
    "print(txt)"
   ]
  }
 ],
 "metadata": {
  "kernelspec": {
   "display_name": "Python 3",
   "language": "python",
   "name": "python3"
  },
  "language_info": {
   "codemirror_mode": {
    "name": "ipython",
    "version": 3
   },
   "file_extension": ".py",
   "mimetype": "text/x-python",
   "name": "python",
   "nbconvert_exporter": "python",
   "pygments_lexer": "ipython3",
   "version": "3.9.7"
  }
 },
 "nbformat": 4,
 "nbformat_minor": 5
}
