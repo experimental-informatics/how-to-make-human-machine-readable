{
 "cells": [
  {
   "cell_type": "markdown",
   "id": "79b675d5-5248-4907-8f8e-62722295bfdf",
   "metadata": {},
   "source": [
    "# Clean multiple files"
   ]
  },
  {
   "cell_type": "code",
   "execution_count": 1,
   "id": "d8481d55-e438-4ad0-b622-37e496018288",
   "metadata": {},
   "outputs": [
    {
     "name": "stdout",
     "output_type": "stream",
     "text": [
      "['data/textfolder/file0.md', 'data/textfolder/file1.md', 'data/textfolder/file2.md', 'data/textfolder/subfolder/file3.md']\n",
      "Text mit italics und bold parts.\n",
      "Text mit italics und bold parts.\n",
      "explanation for the State: this pushes the State back behind the State, ad 0 7000 B.C.: APPARATUS OF CAPTUREText mit italics und bold parts.\n",
      "Lorem ipsum dolor sit amet, consetetur sadipscing elitr, sed diam nonumy eirmod tempor invidunt ut labore et dolore magna aliquyam erat, sed diam voluptua. At vero eos et accusam et justo duo dolores et ea rebum. Stet clita kasd gubergren, no sea takimata sanctus est Lorem ipsum dolor sit amet. Lorem ipsum dolor sit amet, consetetur sadipscing elitr, sed diam nonumy eirmod tempor invidunt ut labore et dolore magna aliquyam erat, sed diam voluptua. At vero eos et accusam et justo duo dolores et ea rebum. Stet clita kasd gubergren, no sea takimata sanctus est Lorem ipsum dolor sit amet.\n",
      "Text mit italics und bold parts.\n",
      "Text mit italics und bold parts.\n",
      "Text mit italics und bold parts.\n",
      "More Text mit italics und bold parts.\n",
      "\n"
     ]
    }
   ],
   "source": [
    "import re\n",
    "import glob\n",
    "\n",
    "def clean_file(path):\n",
    "    '''Remove markdown syntax and lists from a text file.'''\n",
    "    \n",
    "    with open(path, 'r', encoding='utf-8') as f:\n",
    "        txt = f.readlines()\n",
    "    \n",
    "    # Remove headlines\n",
    "    txt = [line for line in txt if not line.startswith('#')]\n",
    "\n",
    "    # Remove newline characters (empty lines)\n",
    "    txt = [line for line in txt if not line == '\\n']\n",
    "\n",
    "    # Remove lists\n",
    "    txt = [line for line in txt if not line.startswith('*')]\n",
    "\n",
    "    # Convert text to string\n",
    "    txt = ''.join(txt)\n",
    "\n",
    "    # Remove asterisk from italics\n",
    "    txt = txt.replace('*', '')\n",
    "\n",
    "    # Remove italic and bold html syntax\n",
    "    txt = txt.replace('<i>', '')\n",
    "    txt = txt.replace('</i>', '')\n",
    "    txt = txt.replace('<b>', '')\n",
    "    txt = txt.replace('</b>', '')\n",
    "\n",
    "    return txt\n",
    "\n",
    "\n",
    "# Find all .md files inside a directory and subdirectories\n",
    "\n",
    "directory = 'data/textfolder'\n",
    "files = glob.glob(directory+'/**/*.md', recursive=True)\n",
    "print(files)\n",
    "\n",
    "\n",
    "dataset = '' # Variable for the content of all files\n",
    "\n",
    "# Loop through the list of files and append cleaned text to the dataset\n",
    "for file in files:\n",
    "    \n",
    "    dataset += clean_file(file)\n",
    "    \n",
    "\n",
    "print(dataset)\n",
    "\n",
    "# Write to disk.\n",
    "with open('dataset_mulfiles.txt', 'w') as f:\n",
    "    f.write(dataset)"
   ]
  }
 ],
 "metadata": {
  "kernelspec": {
   "display_name": "Python 3",
   "language": "python",
   "name": "python3"
  },
  "language_info": {
   "codemirror_mode": {
    "name": "ipython",
    "version": 3
   },
   "file_extension": ".py",
   "mimetype": "text/x-python",
   "name": "python",
   "nbconvert_exporter": "python",
   "pygments_lexer": "ipython3",
   "version": "3.9.7"
  }
 },
 "nbformat": 4,
 "nbformat_minor": 5
}
