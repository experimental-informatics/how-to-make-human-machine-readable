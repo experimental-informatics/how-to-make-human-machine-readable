{
 "cells": [
  {
   "cell_type": "markdown",
   "metadata": {},
   "source": [
    "# Additional - Markov Chain with Image\n",
    "\n",
    "Here is a small code snippet for running markov chain with image. Just play around with it.\n",
    "\n",
    "Based on https://github.com/JonnoFTW/markov-img-gen\n",
    "\n",
    "with the data from Bauhaus painting</br>\n",
    "[<img src=\"images/paint.jpg\" width=\"300x\"/>](originalPic.jpeg)\n",
    "\n",
    "[<img src=\"images/Markov_directional.jpeg\" width=\"250x\"/>](Markov_directional.jpeg)\n",
    "[<img src=\"images/markovProcess_DFS.gif\" width=\"250x\"/>](markovProcess_DFS.gif)\n",
    "[<img src=\"images/markovProcess_BFS.gif\" width=\"250x\"/>](markovProcess_BFS.gif)\n"
   ]
  },
  {
   "cell_type": "code",
   "execution_count": 1,
   "metadata": {},
   "outputs": [
    {
     "name": "stdout",
     "output_type": "stream",
     "text": [
      "Requirement already satisfied: pyprind in /Users/AprilCoffee/opt/anaconda3/lib/python3.8/site-packages (2.11.3)\n",
      "\u001b[33mWARNING: You are using pip version 21.1.2; however, version 22.0.2 is available.\n",
      "You should consider upgrading via the '/Users/AprilCoffee/opt/anaconda3/bin/python -m pip install --upgrade pip' command.\u001b[0m\n"
     ]
    }
   ],
   "source": [
    "!pip install pyprind"
   ]
  },
  {
   "cell_type": "code",
   "execution_count": null,
   "metadata": {},
   "outputs": [],
   "source": [
    "from collections import defaultdict, Counter\n",
    "from PIL import Image\n",
    "import numpy as np\n",
    "#import pyprind\n",
    "\n",
    "from IPython.display import clear_output\n",
    "\n",
    "import random\n",
    "class MarkovChain(object):\n",
    "    def __init__(self,bucket_size = 10, directional=False,method='DFS'):\n",
    "        self.bucket_size = bucket_size\n",
    "        self.weights = defaultdict(Counter)\n",
    "        self.directional = directional\n",
    "        if(method=='DFS' or method =='BFS'):\n",
    "            self.method = method\n",
    "        #DFS as default method\n",
    "        else:\n",
    "            self.method = 'DFS'\n",
    "            \n",
    "    def get_neighbors(self, x, y):\n",
    "        return [(x, y - 1),(x, y + 1),(x - 1, y),(x + 1, y)]\n",
    "    def get_neighbors_directional(self, x, y):\n",
    "        return {'t':(x, y - 1), 'd':(x, y + 1), 'l':(x - 1, y), 'r':(x + 1, y)}\n",
    "    \n",
    "    def norm(self,_pixel):\n",
    "        return _pixel // self.bucket_size\n",
    "    def denorm(self,_pixel):\n",
    "        return _pixel * self.bucket_size\n",
    "    \n",
    "    \n",
    "    \n",
    "    def train(self,img):\n",
    "        width,height = img.size\n",
    "        img = np.array(img)[:,:,:3]\n",
    "        trainingCount = 0\n",
    "        #prog = pyprind.ProgBar((width * height), width=64, stream=1)\n",
    "        for x in range(height):\n",
    "            for y in range(width):\n",
    "                trainingCount += 1\n",
    "                if(trainingCount%10000==0):\n",
    "                    clear_output(wait=True)\n",
    "                if(trainingCount%500==0):\n",
    "                    print(\"{:.2%}\".format(trainingCount/(width * height)))\n",
    "                #prog.update()\n",
    "                pixel = tuple(self.norm(img[x,y]))\n",
    "                for neighbor in self.get_neighbors(x,y):\n",
    "                    try:\n",
    "                        self.weights[pixel][tuple(self.norm(img[neighbor]))]+=1\n",
    "                    except IndexError:\n",
    "                        continue\n",
    "        self.directional = False\n",
    "        \n",
    "    def train_with_direction(self, img):\n",
    "        self.weights = defaultdict(lambda: defaultdict(Counter))\n",
    "        width, height = img.size\n",
    "        trainingCount = 0\n",
    "        img = np.array(img)[:, :, :3]\n",
    "        #prog = pyprind.ProgBar((width * height), width=64, stream=1)\n",
    "        for x in range(height):\n",
    "            for y in range(width):\n",
    "                trainingCount += 1\n",
    "                if(trainingCount%10000==0):\n",
    "                    clear_output(wait=True)\n",
    "                if(trainingCount%500==0):\n",
    "                    print(\"{:.2%}\".format(trainingCount/(width * height)))\n",
    "                #prog.update()\n",
    "                pixel = tuple(self.norm(img[x, y]))\n",
    "                for _dir, neighbor in self.get_neighbors_directional(x, y).items():\n",
    "                    try:\n",
    "                        self.weights[pixel][_dir][tuple(self.norm(img[neighbor]))] += 1\n",
    "                    except IndexError:\n",
    "                        continue\n",
    "        self.directional = True\n",
    "        \n",
    "    def generate(self,initial=None,width=400, height=400):\n",
    "        \n",
    "        if initial is None:\n",
    "            initial = random.choice(list(self.weights.keys()))\n",
    "        #print(initial)\n",
    "            \n",
    "        img = Image.new('RGB',(width,height),(255,255,255))\n",
    "        img = np.array(img)\n",
    "        img_out = np.array(img.copy())\n",
    "        \n",
    "        start_position = (random.randint(0,height),random.randint(0,width))\n",
    "        img[start_position] = initial\n",
    "        stack = [start_position]\n",
    "        isFilled = set()\n",
    "        \n",
    "        #prog = pyprind.ProgBar((width * height), width=64, stream=1)\n",
    "        trainingCount = 0\n",
    "        \n",
    "        i = 0\n",
    "        \n",
    "        while stack:\n",
    "            \n",
    "            if(self.method=='DFS'):\n",
    "                x,y = stack.pop()\n",
    "            elif(self.method=='BFS'):\n",
    "                x,y = stack.pop(0)\n",
    "            else:\n",
    "                x,y = stack.pop()\n",
    "                \n",
    "            if(x,y) in isFilled:\n",
    "                continue\n",
    "            else:\n",
    "                isFilled.add((x,y))\n",
    "                \n",
    "            trainingCount += 1\n",
    "            if(trainingCount%10000==0):\n",
    "                clear_output(wait=True)\n",
    "            if(trainingCount%500==0):\n",
    "                print(\"{:.2%}\".format(trainingCount/(width * height)))                \n",
    "            #prog.update()\n",
    "            pixel = img[x,y]\n",
    "            node = self.weights[tuple(pixel)]\n",
    "            img_out[x,y] = self.denorm(pixel)\n",
    "            \n",
    "            #uncomment to generate sequence image\n",
    "            #Image.fromarray(img_out).save('frames/'+\"{:05d}\".format(i)+'.jpg',dpi=[72,72])\n",
    "            i+=1\n",
    "            \n",
    "            if self.directional:\n",
    "                keys = {dir: list(node[dir].keys()) for dir in node}\n",
    "                neighbors = list(self.get_neighbors_directional(x, y).items())\n",
    "                counts = {dir: np.array(list(node[dir].values()), dtype=np.float32) for dir in keys}\n",
    "                key_index = {dir: np.arange(len(node[dir])) for dir in keys}\n",
    "                probabilities = {dir: counts[dir] / counts[dir].sum() for dir in keys}\n",
    "            \n",
    "            #BFS without Direction\n",
    "            else:\n",
    "                keys = list(node.keys())\n",
    "                neighbors = self.get_neighbors(x,y)\n",
    "                counts = np.array(list(node.values()),dtype=np.float32)\n",
    "                key_index = np.arange(len(keys))\n",
    "                probabilities = counts / counts.sum()\n",
    "\n",
    "            # shuffle all directions\n",
    "            np.random.shuffle(neighbors)\n",
    "            \n",
    "            for neighbor in neighbors:\n",
    "                try:\n",
    "                    if self.directional:\n",
    "                        direction = neighbor[0]\n",
    "                        neighbor = neighbor[1]\n",
    "                        if neighbor not in isFilled:\n",
    "                            col_idx = np.random.choice(key_index[direction], p=probabilities[direction])\n",
    "                            img[neighbor] = keys[direction][col_idx]\n",
    "                    else:\n",
    "                        col_idx = np.random.choice(key_index, p=probabilities)\n",
    "                        if neighbor not in isFilled:\n",
    "                            img[neighbor] = keys[col_idx]\n",
    "                            \n",
    "                except IndexError:\n",
    "                    pass\n",
    "                except ValueError:\n",
    "                    continue\n",
    "                    \n",
    "                if 0 <= neighbor[1] < width and 0 <= neighbor[0] < height:\n",
    "                    stack.append(neighbor)\n",
    "                    \n",
    "        return Image.fromarray(img_out)\n"
   ]
  },
  {
   "cell_type": "markdown",
   "metadata": {},
   "source": [
    "## adding the training picture"
   ]
  },
  {
   "cell_type": "code",
   "execution_count": null,
   "metadata": {},
   "outputs": [],
   "source": [
    "image = Image.open(\"images/paint.jpg\")\n",
    "\n",
    "#bucket the pixel for compressing image RGB\n",
    "bucket_size = 10\n",
    "\n",
    "bucketed = Image.fromarray((np.array(image)//bucket_size) * bucket_size)\n",
    "#bucketed.show()"
   ]
  },
  {
   "cell_type": "markdown",
   "metadata": {},
   "source": [
    "## Training\n",
    "### Arguments\n",
    "`bucket_size`   | how much the image is compressed (0~255) </br>\n",
    "`directional`   | whether the program consider relations between different directions </br>\n",
    "`method`        | `BFS` and `DFS`, different algorithm for traversing graph while generating. </br>"
   ]
  },
  {
   "cell_type": "code",
   "execution_count": null,
   "metadata": {},
   "outputs": [
    {
     "name": "stdout",
     "output_type": "stream",
     "text": [
      "19.48%\n",
      "19.50%\n",
      "19.52%\n",
      "19.54%\n",
      "19.56%\n",
      "19.58%\n",
      "19.60%\n",
      "19.62%\n",
      "19.64%\n",
      "19.66%\n"
     ]
    }
   ],
   "source": [
    "chain = MarkovChain(bucket_size=bucket_size, \n",
    "                    directional=False,\n",
    "                    method = 'DFS')\n",
    "\n",
    "\n",
    "# pick one method to train\n",
    "chain.train_with_direction(bucketed) \n",
    "#chain.train(bucketed)"
   ]
  },
  {
   "cell_type": "markdown",
   "metadata": {},
   "source": [
    "## Show the image"
   ]
  },
  {
   "cell_type": "code",
   "execution_count": 4,
   "metadata": {},
   "outputs": [
    {
     "name": "stdout",
     "output_type": "stream",
     "text": [
      "60.00%\n",
      "60.06%\n",
      "60.12%\n",
      "60.19%\n",
      "60.25%\n",
      "60.31%\n",
      "60.38%\n",
      "60.44%\n"
     ]
    },
    {
     "ename": "KeyboardInterrupt",
     "evalue": "",
     "output_type": "error",
     "traceback": [
      "\u001b[0;31m---------------------------------------------------------------------------\u001b[0m",
      "\u001b[0;31mKeyboardInterrupt\u001b[0m                         Traceback (most recent call last)",
      "\u001b[0;32m<ipython-input-4-75b8e29ffac2>\u001b[0m in \u001b[0;36m<module>\u001b[0;34m\u001b[0m\n\u001b[0;32m----> 1\u001b[0;31m \u001b[0moutput\u001b[0m \u001b[0;34m=\u001b[0m \u001b[0mchain\u001b[0m\u001b[0;34m.\u001b[0m\u001b[0mgenerate\u001b[0m\u001b[0;34m(\u001b[0m\u001b[0mwidth\u001b[0m\u001b[0;34m=\u001b[0m\u001b[0;36m400\u001b[0m\u001b[0;34m,\u001b[0m \u001b[0mheight\u001b[0m\u001b[0;34m=\u001b[0m\u001b[0;36m400\u001b[0m\u001b[0;34m)\u001b[0m\u001b[0;34m\u001b[0m\u001b[0;34m\u001b[0m\u001b[0m\n\u001b[0m\u001b[1;32m      2\u001b[0m \u001b[0moutput\u001b[0m\u001b[0;34m.\u001b[0m\u001b[0mshow\u001b[0m\u001b[0;34m(\u001b[0m\u001b[0;34m)\u001b[0m\u001b[0;34m\u001b[0m\u001b[0;34m\u001b[0m\u001b[0m\n",
      "\u001b[0;32m<ipython-input-1-4e090ddd2637>\u001b[0m in \u001b[0;36mgenerate\u001b[0;34m(self, initial, width, height)\u001b[0m\n\u001b[1;32m    126\u001b[0m                 \u001b[0mcounts\u001b[0m \u001b[0;34m=\u001b[0m \u001b[0;34m{\u001b[0m\u001b[0mdir\u001b[0m\u001b[0;34m:\u001b[0m \u001b[0mnp\u001b[0m\u001b[0;34m.\u001b[0m\u001b[0marray\u001b[0m\u001b[0;34m(\u001b[0m\u001b[0mlist\u001b[0m\u001b[0;34m(\u001b[0m\u001b[0mnode\u001b[0m\u001b[0;34m[\u001b[0m\u001b[0mdir\u001b[0m\u001b[0;34m]\u001b[0m\u001b[0;34m.\u001b[0m\u001b[0mvalues\u001b[0m\u001b[0;34m(\u001b[0m\u001b[0;34m)\u001b[0m\u001b[0;34m)\u001b[0m\u001b[0;34m,\u001b[0m \u001b[0mdtype\u001b[0m\u001b[0;34m=\u001b[0m\u001b[0mnp\u001b[0m\u001b[0;34m.\u001b[0m\u001b[0mfloat32\u001b[0m\u001b[0;34m)\u001b[0m \u001b[0;32mfor\u001b[0m \u001b[0mdir\u001b[0m \u001b[0;32min\u001b[0m \u001b[0mkeys\u001b[0m\u001b[0;34m}\u001b[0m\u001b[0;34m\u001b[0m\u001b[0;34m\u001b[0m\u001b[0m\n\u001b[1;32m    127\u001b[0m                 \u001b[0mkey_index\u001b[0m \u001b[0;34m=\u001b[0m \u001b[0;34m{\u001b[0m\u001b[0mdir\u001b[0m\u001b[0;34m:\u001b[0m \u001b[0mnp\u001b[0m\u001b[0;34m.\u001b[0m\u001b[0marange\u001b[0m\u001b[0;34m(\u001b[0m\u001b[0mlen\u001b[0m\u001b[0;34m(\u001b[0m\u001b[0mnode\u001b[0m\u001b[0;34m[\u001b[0m\u001b[0mdir\u001b[0m\u001b[0;34m]\u001b[0m\u001b[0;34m)\u001b[0m\u001b[0;34m)\u001b[0m \u001b[0;32mfor\u001b[0m \u001b[0mdir\u001b[0m \u001b[0;32min\u001b[0m \u001b[0mkeys\u001b[0m\u001b[0;34m}\u001b[0m\u001b[0;34m\u001b[0m\u001b[0;34m\u001b[0m\u001b[0m\n\u001b[0;32m--> 128\u001b[0;31m                 \u001b[0mprobabilities\u001b[0m \u001b[0;34m=\u001b[0m \u001b[0;34m{\u001b[0m\u001b[0mdir\u001b[0m\u001b[0;34m:\u001b[0m \u001b[0mcounts\u001b[0m\u001b[0;34m[\u001b[0m\u001b[0mdir\u001b[0m\u001b[0;34m]\u001b[0m \u001b[0;34m/\u001b[0m \u001b[0mcounts\u001b[0m\u001b[0;34m[\u001b[0m\u001b[0mdir\u001b[0m\u001b[0;34m]\u001b[0m\u001b[0;34m.\u001b[0m\u001b[0msum\u001b[0m\u001b[0;34m(\u001b[0m\u001b[0;34m)\u001b[0m \u001b[0;32mfor\u001b[0m \u001b[0mdir\u001b[0m \u001b[0;32min\u001b[0m \u001b[0mkeys\u001b[0m\u001b[0;34m}\u001b[0m\u001b[0;34m\u001b[0m\u001b[0;34m\u001b[0m\u001b[0m\n\u001b[0m\u001b[1;32m    129\u001b[0m \u001b[0;34m\u001b[0m\u001b[0m\n\u001b[1;32m    130\u001b[0m             \u001b[0;31m#BFS without Direction\u001b[0m\u001b[0;34m\u001b[0m\u001b[0;34m\u001b[0m\u001b[0;34m\u001b[0m\u001b[0m\n",
      "\u001b[0;32m<ipython-input-1-4e090ddd2637>\u001b[0m in \u001b[0;36m<dictcomp>\u001b[0;34m(.0)\u001b[0m\n\u001b[1;32m    126\u001b[0m                 \u001b[0mcounts\u001b[0m \u001b[0;34m=\u001b[0m \u001b[0;34m{\u001b[0m\u001b[0mdir\u001b[0m\u001b[0;34m:\u001b[0m \u001b[0mnp\u001b[0m\u001b[0;34m.\u001b[0m\u001b[0marray\u001b[0m\u001b[0;34m(\u001b[0m\u001b[0mlist\u001b[0m\u001b[0;34m(\u001b[0m\u001b[0mnode\u001b[0m\u001b[0;34m[\u001b[0m\u001b[0mdir\u001b[0m\u001b[0;34m]\u001b[0m\u001b[0;34m.\u001b[0m\u001b[0mvalues\u001b[0m\u001b[0;34m(\u001b[0m\u001b[0;34m)\u001b[0m\u001b[0;34m)\u001b[0m\u001b[0;34m,\u001b[0m \u001b[0mdtype\u001b[0m\u001b[0;34m=\u001b[0m\u001b[0mnp\u001b[0m\u001b[0;34m.\u001b[0m\u001b[0mfloat32\u001b[0m\u001b[0;34m)\u001b[0m \u001b[0;32mfor\u001b[0m \u001b[0mdir\u001b[0m \u001b[0;32min\u001b[0m \u001b[0mkeys\u001b[0m\u001b[0;34m}\u001b[0m\u001b[0;34m\u001b[0m\u001b[0;34m\u001b[0m\u001b[0m\n\u001b[1;32m    127\u001b[0m                 \u001b[0mkey_index\u001b[0m \u001b[0;34m=\u001b[0m \u001b[0;34m{\u001b[0m\u001b[0mdir\u001b[0m\u001b[0;34m:\u001b[0m \u001b[0mnp\u001b[0m\u001b[0;34m.\u001b[0m\u001b[0marange\u001b[0m\u001b[0;34m(\u001b[0m\u001b[0mlen\u001b[0m\u001b[0;34m(\u001b[0m\u001b[0mnode\u001b[0m\u001b[0;34m[\u001b[0m\u001b[0mdir\u001b[0m\u001b[0;34m]\u001b[0m\u001b[0;34m)\u001b[0m\u001b[0;34m)\u001b[0m \u001b[0;32mfor\u001b[0m \u001b[0mdir\u001b[0m \u001b[0;32min\u001b[0m \u001b[0mkeys\u001b[0m\u001b[0;34m}\u001b[0m\u001b[0;34m\u001b[0m\u001b[0;34m\u001b[0m\u001b[0m\n\u001b[0;32m--> 128\u001b[0;31m                 \u001b[0mprobabilities\u001b[0m \u001b[0;34m=\u001b[0m \u001b[0;34m{\u001b[0m\u001b[0mdir\u001b[0m\u001b[0;34m:\u001b[0m \u001b[0mcounts\u001b[0m\u001b[0;34m[\u001b[0m\u001b[0mdir\u001b[0m\u001b[0;34m]\u001b[0m \u001b[0;34m/\u001b[0m \u001b[0mcounts\u001b[0m\u001b[0;34m[\u001b[0m\u001b[0mdir\u001b[0m\u001b[0;34m]\u001b[0m\u001b[0;34m.\u001b[0m\u001b[0msum\u001b[0m\u001b[0;34m(\u001b[0m\u001b[0;34m)\u001b[0m \u001b[0;32mfor\u001b[0m \u001b[0mdir\u001b[0m \u001b[0;32min\u001b[0m \u001b[0mkeys\u001b[0m\u001b[0;34m}\u001b[0m\u001b[0;34m\u001b[0m\u001b[0;34m\u001b[0m\u001b[0m\n\u001b[0m\u001b[1;32m    129\u001b[0m \u001b[0;34m\u001b[0m\u001b[0m\n\u001b[1;32m    130\u001b[0m             \u001b[0;31m#BFS without Direction\u001b[0m\u001b[0;34m\u001b[0m\u001b[0;34m\u001b[0m\u001b[0;34m\u001b[0m\u001b[0m\n",
      "\u001b[0;32m~/opt/anaconda3/lib/python3.8/site-packages/numpy/core/_methods.py\u001b[0m in \u001b[0;36m_sum\u001b[0;34m(a, axis, dtype, out, keepdims, initial, where)\u001b[0m\n\u001b[1;32m     36\u001b[0m def _sum(a, axis=None, dtype=None, out=None, keepdims=False,\n\u001b[1;32m     37\u001b[0m          initial=_NoValue, where=True):\n\u001b[0;32m---> 38\u001b[0;31m     \u001b[0;32mreturn\u001b[0m \u001b[0mumr_sum\u001b[0m\u001b[0;34m(\u001b[0m\u001b[0ma\u001b[0m\u001b[0;34m,\u001b[0m \u001b[0maxis\u001b[0m\u001b[0;34m,\u001b[0m \u001b[0mdtype\u001b[0m\u001b[0;34m,\u001b[0m \u001b[0mout\u001b[0m\u001b[0;34m,\u001b[0m \u001b[0mkeepdims\u001b[0m\u001b[0;34m,\u001b[0m \u001b[0minitial\u001b[0m\u001b[0;34m,\u001b[0m \u001b[0mwhere\u001b[0m\u001b[0;34m)\u001b[0m\u001b[0;34m\u001b[0m\u001b[0;34m\u001b[0m\u001b[0m\n\u001b[0m\u001b[1;32m     39\u001b[0m \u001b[0;34m\u001b[0m\u001b[0m\n\u001b[1;32m     40\u001b[0m def _prod(a, axis=None, dtype=None, out=None, keepdims=False,\n",
      "\u001b[0;31mKeyboardInterrupt\u001b[0m: "
     ]
    }
   ],
   "source": [
    "output = chain.generate(width=400, height=400)\n",
    "output.show()"
   ]
  },
  {
   "cell_type": "code",
   "execution_count": null,
   "metadata": {},
   "outputs": [],
   "source": []
  }
 ],
 "metadata": {
  "kernelspec": {
   "display_name": "Python 3",
   "language": "python",
   "name": "python3"
  },
  "language_info": {
   "codemirror_mode": {
    "name": "ipython",
    "version": 3
   },
   "file_extension": ".py",
   "mimetype": "text/x-python",
   "name": "python",
   "nbconvert_exporter": "python",
   "pygments_lexer": "ipython3",
   "version": "3.8.3"
  }
 },
 "nbformat": 4,
 "nbformat_minor": 4
}
